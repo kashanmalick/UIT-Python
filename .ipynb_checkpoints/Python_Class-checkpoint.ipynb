{
 "cells": [
  {
   "cell_type": "markdown",
   "metadata": {},
   "source": [
    "# Class # 01 Print Statment"
   ]
  },
  {
   "cell_type": "code",
   "execution_count": 1,
   "metadata": {},
   "outputs": [
    {
     "name": "stdout",
     "output_type": "stream",
     "text": [
      "Hello World\n"
     ]
    }
   ],
   "source": [
    "print(\"Hello World\")"
   ]
  },
  {
   "cell_type": "code",
   "execution_count": 1,
   "metadata": {},
   "outputs": [
    {
     "name": "stdout",
     "output_type": "stream",
     "text": [
      "Kashan Zafar\n"
     ]
    }
   ],
   "source": [
    "print (\"Kashan Zafar\")"
   ]
  },
  {
   "cell_type": "markdown",
   "metadata": {},
   "source": [
    "# Variable for String"
   ]
  },
  {
   "cell_type": "code",
   "execution_count": 1,
   "metadata": {},
   "outputs": [
    {
     "name": "stdout",
     "output_type": "stream",
     "text": [
      "My Name is : Kashan zafar\n",
      "I am Pakistani\n"
     ]
    }
   ],
   "source": [
    "name = \"Kashan zafar\"\n",
    "nationality = \"Pakistani\"\n",
    "print(\"My Name is : \" + name)\n",
    "print(\"I am \" +nationality)"
   ]
  },
  {
   "cell_type": "markdown",
   "metadata": {},
   "source": [
    "# Variable for Number"
   ]
  },
  {
   "cell_type": "code",
   "execution_count": 4,
   "metadata": {},
   "outputs": [
    {
     "name": "stdout",
     "output_type": "stream",
     "text": [
      "250\n"
     ]
    }
   ],
   "source": [
    "#You can use many simble to ADD Multiply and Division\n",
    "first_num = 120\n",
    "second_num = 130\n",
    "Ans = first_num + second_num\n",
    "print(Ans)"
   ]
  },
  {
   "cell_type": "markdown",
   "metadata": {},
   "source": [
    "# Familiar Operators"
   ]
  },
  {
   "cell_type": "code",
   "execution_count": 6,
   "metadata": {},
   "outputs": [
    {
     "name": "stdout",
     "output_type": "stream",
     "text": [
      "90\n",
      "40\n",
      "6500\n",
      "0.65\n"
     ]
    }
   ],
   "source": [
    "#ALL Calculation in this Operation\n",
    "first_num = 65\n",
    "second_num = 20\n",
    "third_num = 5\n",
    "AnsADD = first_num + second_num + third_num\n",
    "AnsSUB = first_num - second_num - third_num\n",
    "AnsMUL = first_num * second_num * third_num\n",
    "AnsDIV = first_num / second_num / third_num\n",
    "print(AnsADD)\n",
    "print(AnsSUB)\n",
    "print(AnsMUL)\n",
    "print(AnsDIV)"
   ]
  },
  {
   "cell_type": "markdown",
   "metadata": {},
   "source": [
    "# Variable Names Legal and Illegal"
   ]
  },
  {
   "cell_type": "code",
   "execution_count": 7,
   "metadata": {},
   "outputs": [],
   "source": [
    "#Name start with Number is ilegal\n",
    "#Name Start with Character is ilegal\n",
    "#keyword of Python Language"
   ]
  },
  {
   "cell_type": "markdown",
   "metadata": {},
   "source": [
    "# Unfamiliar Operator"
   ]
  },
  {
   "cell_type": "code",
   "execution_count": 10,
   "metadata": {},
   "outputs": [
    {
     "name": "stdout",
     "output_type": "stream",
     "text": [
      "1\n"
     ]
    }
   ],
   "source": [
    "# % modulo Operator just like 10 / 3 (1 in reminder its Shows in modulo)\n",
    "modulo = 10 %3\n",
    "print(modulo)"
   ]
  },
  {
   "cell_type": "code",
   "execution_count": 22,
   "metadata": {},
   "outputs": [
    {
     "name": "stdout",
     "output_type": "stream",
     "text": [
      "26\n"
     ]
    }
   ],
   "source": [
    "#if we want add any number in we could age + 1 like that But we also do like that\n",
    "age = 25\n",
    "age += 1\n",
    "#age -= 1\n",
    "#age *= 2\n",
    "\n",
    "print(age)"
   ]
  },
  {
   "cell_type": "markdown",
   "metadata": {},
   "source": [
    "# Math expressions: Eliminating Ambiguity"
   ]
  },
  {
   "cell_type": "code",
   "execution_count": 7,
   "metadata": {},
   "outputs": [
    {
     "name": "stdout",
     "output_type": "stream",
     "text": [
      "9\n"
     ]
    }
   ],
   "source": [
    "total = 1 + 2 * 4\n",
    "total1 = ((2 * 4) * 4) + 2\n",
    "total2 = (2 * 4) * (4 + 2)\n",
    "print(total)"
   ]
  },
  {
   "cell_type": "markdown",
   "metadata": {},
   "source": [
    "# Concetinating Text"
   ]
  },
  {
   "cell_type": "code",
   "execution_count": 32,
   "metadata": {},
   "outputs": [
    {
     "name": "stdout",
     "output_type": "stream",
     "text": [
      "My name is Kashan.My father Name is Zafar Alam and i am 24 year Old.\n",
      "My name is Kashan.My father Name is Zafar Alam and i am 24 year Old.\n"
     ]
    }
   ],
   "source": [
    "name = \"Kashan\"\n",
    "age = 24\n",
    "f_name = \"Zafar Alam\"\n",
    "Sentence = \"My name is \"+name+\".My father Name is \"+f_name+\" and i am \"+str(age)+\" year Old.\"\n",
    "print(Sentence)\n",
    "print(\"My name is {}.My father Name is {} and i am {} year Old.\".format(name,f_name,age))"
   ]
  },
  {
   "cell_type": "markdown",
   "metadata": {},
   "source": [
    "# IF Statment"
   ]
  },
  {
   "cell_type": "code",
   "execution_count": 50,
   "metadata": {},
   "outputs": [
    {
     "name": "stdout",
     "output_type": "stream",
     "text": [
      "Give me int Number 7\n",
      "you enter Greater than 6 Number\n"
     ]
    }
   ],
   "source": [
    "userInput = int(input(\"Give me int Number \"))\n",
    "if userInput > 6:\n",
    "    print(\"you enter Greater than 6 Number\")\n",
    "else:\n",
    "    print(\"You enter Less then or equal to 6 Number\")"
   ]
  },
  {
   "cell_type": "code",
   "execution_count": 4,
   "metadata": {},
   "outputs": [
    {
     "name": "stdout",
     "output_type": "stream",
     "text": [
      "Do you have Driving Licence? no\n",
      "Do you have Car Paper? no\n",
      "Do you have Money?  yes\n",
      "Okey Go away\n"
     ]
    }
   ],
   "source": [
    "DL = input(\"Do you have Driving Licence? \").upper()\n",
    "DL = DL.replace(\" \",\"\")\n",
    "if DL == \"YES\":\n",
    "    print(\"Okey Go away\")\n",
    "else:\n",
    "    CP = input(\"Do you have Car Paper? \").upper()\n",
    "    CP = CP.replace(\" \",\"\")\n",
    "    if CP == \"YES\":\n",
    "        print(\"Okey Go Away\")\n",
    "    else:\n",
    "        Money = input(\"Do you have Money? \").upper()\n",
    "        Money = Money.replace(\" \",\"\")\n",
    "        if Money == \"YES\":\n",
    "            print(\"Okey Go away\")\n",
    "        else:\n",
    "                print(\"Chal beta Side m aja :D\")"
   ]
  },
  {
   "cell_type": "markdown",
   "metadata": {},
   "source": [
    "# LIST"
   ]
  },
  {
   "cell_type": "code",
   "execution_count": 2,
   "metadata": {},
   "outputs": [
    {
     "data": {
      "text/plain": [
       "['Sawat',\n",
       " 'Karachi',\n",
       " 'Lahore',\n",
       " 'hyderabad',\n",
       " 'Islamabad',\n",
       " 'Queeta',\n",
       " 'Peshawar',\n",
       " 'Gilgit']"
      ]
     },
     "execution_count": 2,
     "metadata": {},
     "output_type": "execute_result"
    }
   ],
   "source": [
    "listOfCity = [\"Karachi\",\"Lahore\",\"hyderabad\",\"Islamabad\",\"Queeta\",\"Peshawar\"]\n",
    "#Adding Cities in list\n",
    "listOfCity.append(\"Gilgit\")\n",
    "#Insert City in list with given Position\n",
    "listOfCity.insert(0,\"Sawat\")\n",
    "listOfCity"
   ]
  },
  {
   "cell_type": "markdown",
   "metadata": {},
   "source": [
    "# Taking Slice from List"
   ]
  },
  {
   "cell_type": "code",
   "execution_count": 17,
   "metadata": {},
   "outputs": [
    {
     "data": {
      "text/plain": [
       "['Sawat', 'Karachi', 'Lahore']"
      ]
     },
     "execution_count": 17,
     "metadata": {},
     "output_type": "execute_result"
    }
   ],
   "source": [
    "listOfCity[0:3]\n",
    "#You can Slice the list in many order just like\n",
    "#listOfCity[:9]\n",
    "#listOfCity[0:9]\n",
    "#listOfCity[2:6]\n",
    "#listOfCity[0:]\n",
    "#You ca also Do it with negative Number"
   ]
  },
  {
   "cell_type": "markdown",
   "metadata": {},
   "source": [
    "# Deleting and Removing Element from List."
   ]
  },
  {
   "cell_type": "code",
   "execution_count": 3,
   "metadata": {},
   "outputs": [
    {
     "data": {
      "text/plain": [
       "['Sawat',\n",
       " 'Karachi',\n",
       " 'Lahore',\n",
       " 'hyderabad',\n",
       " 'Islamabad',\n",
       " 'Queeta',\n",
       " 'Peshawar',\n",
       " 'Gilgit']"
      ]
     },
     "execution_count": 3,
     "metadata": {},
     "output_type": "execute_result"
    }
   ],
   "source": [
    "listOfCity"
   ]
  },
  {
   "cell_type": "code",
   "execution_count": 19,
   "metadata": {},
   "outputs": [],
   "source": [
    "del listOfCity[0]"
   ]
  },
  {
   "cell_type": "code",
   "execution_count": 4,
   "metadata": {},
   "outputs": [
    {
     "data": {
      "text/plain": [
       "['Sawat',\n",
       " 'Karachi',\n",
       " 'Lahore',\n",
       " 'hyderabad',\n",
       " 'Islamabad',\n",
       " 'Queeta',\n",
       " 'Peshawar',\n",
       " 'Gilgit']"
      ]
     },
     "execution_count": 4,
     "metadata": {},
     "output_type": "execute_result"
    }
   ],
   "source": [
    "listOfCity"
   ]
  },
  {
   "cell_type": "code",
   "execution_count": 29,
   "metadata": {},
   "outputs": [
    {
     "ename": "ValueError",
     "evalue": "list.remove(x): x not in list",
     "output_type": "error",
     "traceback": [
      "\u001b[1;31m---------------------------------------------------------------------------\u001b[0m",
      "\u001b[1;31mValueError\u001b[0m                                Traceback (most recent call last)",
      "\u001b[1;32m<ipython-input-29-53adaac3daaf>\u001b[0m in \u001b[0;36m<module>\u001b[1;34m\u001b[0m\n\u001b[0;32m      2\u001b[0m \u001b[1;31m#index number just Like\u001b[0m\u001b[1;33m\u001b[0m\u001b[1;33m\u001b[0m\u001b[1;33m\u001b[0m\u001b[0m\n\u001b[0;32m      3\u001b[0m \u001b[0mlistOfCity\u001b[0m\u001b[1;33m\u001b[0m\u001b[1;33m\u001b[0m\u001b[0m\n\u001b[1;32m----> 4\u001b[1;33m \u001b[0mlistOfCity\u001b[0m\u001b[1;33m.\u001b[0m\u001b[0mremove\u001b[0m\u001b[1;33m(\u001b[0m\u001b[1;34m\"Gilgit\"\u001b[0m\u001b[1;33m)\u001b[0m\u001b[1;33m\u001b[0m\u001b[1;33m\u001b[0m\u001b[0m\n\u001b[0m",
      "\u001b[1;31mValueError\u001b[0m: list.remove(x): x not in list"
     ]
    }
   ],
   "source": [
    "#You can also strike an element off a list by specifying its value instead of its\n",
    "#index number just Like\n",
    "listOfCity\n",
    "listOfCity.remove(\"Gilgit\")\n",
    "#Forget this Error You can see gilgit in upper out put but not in lower"
   ]
  },
  {
   "cell_type": "code",
   "execution_count": 30,
   "metadata": {},
   "outputs": [
    {
     "data": {
      "text/plain": [
       "['Karachi', 'Lahore', 'hyderabad', 'Islamabad', 'Queeta', 'Peshawar']"
      ]
     },
     "execution_count": 30,
     "metadata": {},
     "output_type": "execute_result"
    }
   ],
   "source": [
    "listOfCity"
   ]
  },
  {
   "cell_type": "markdown",
   "metadata": {},
   "source": [
    "# Popping Element"
   ]
  },
  {
   "cell_type": "code",
   "execution_count": 31,
   "metadata": {},
   "outputs": [
    {
     "data": {
      "text/plain": [
       "['Karachi', 'Lahore', 'hyderabad', 'Islamabad', 'Queeta', 'Peshawar']"
      ]
     },
     "execution_count": 31,
     "metadata": {},
     "output_type": "execute_result"
    }
   ],
   "source": [
    "listOfCity"
   ]
  },
  {
   "cell_type": "code",
   "execution_count": 5,
   "metadata": {},
   "outputs": [],
   "source": [
    "getCity = listOfCity.pop(0)\n",
    "#Lahore Gone"
   ]
  },
  {
   "cell_type": "code",
   "execution_count": 6,
   "metadata": {},
   "outputs": [
    {
     "data": {
      "text/plain": [
       "['Karachi', 'Lahore', 'hyderabad', 'Islamabad', 'Queeta', 'Peshawar', 'Gilgit']"
      ]
     },
     "execution_count": 6,
     "metadata": {},
     "output_type": "execute_result"
    }
   ],
   "source": [
    "listOfCity"
   ]
  },
  {
   "cell_type": "code",
   "execution_count": 7,
   "metadata": {},
   "outputs": [
    {
     "data": {
      "text/plain": [
       "'Sawat'"
      ]
     },
     "execution_count": 7,
     "metadata": {},
     "output_type": "execute_result"
    }
   ],
   "source": [
    "getCity"
   ]
  },
  {
   "cell_type": "code",
   "execution_count": 8,
   "metadata": {},
   "outputs": [],
   "source": [
    "listOfCity.append(getCity)"
   ]
  },
  {
   "cell_type": "code",
   "execution_count": 9,
   "metadata": {},
   "outputs": [
    {
     "data": {
      "text/plain": [
       "['Karachi',\n",
       " 'Lahore',\n",
       " 'hyderabad',\n",
       " 'Islamabad',\n",
       " 'Queeta',\n",
       " 'Peshawar',\n",
       " 'Gilgit',\n",
       " 'Sawat']"
      ]
     },
     "execution_count": 9,
     "metadata": {},
     "output_type": "execute_result"
    }
   ],
   "source": [
    "listOfCity"
   ]
  },
  {
   "cell_type": "markdown",
   "metadata": {},
   "source": [
    "# TUPLES"
   ]
  },
  {
   "cell_type": "code",
   "execution_count": 10,
   "metadata": {},
   "outputs": [
    {
     "data": {
      "text/plain": [
       "('Apple', 'Mango', 'Stawberry', 'Grapes', 'cherry')"
      ]
     },
     "execution_count": 10,
     "metadata": {},
     "output_type": "execute_result"
    }
   ],
   "source": [
    "food = (\"Apple\",\"Mango\",\"Stawberry\",\"Grapes\",\"cherry\")\n",
    "food\n",
    "#tupes just like constant you can not change or Update those values define in tuples."
   ]
  },
  {
   "cell_type": "markdown",
   "metadata": {},
   "source": [
    "# LOOPS"
   ]
  },
  {
   "cell_type": "code",
   "execution_count": 11,
   "metadata": {},
   "outputs": [
    {
     "data": {
      "text/plain": [
       "[1, 2, 3, 4, 5, 6, 7, 8, 9]"
      ]
     },
     "execution_count": 11,
     "metadata": {},
     "output_type": "execute_result"
    }
   ],
   "source": [
    "li = [1,2,3,4,5,6,7,8,9]\n",
    "li"
   ]
  },
  {
   "cell_type": "code",
   "execution_count": 12,
   "metadata": {},
   "outputs": [
    {
     "name": "stdout",
     "output_type": "stream",
     "text": [
      "1\n",
      "2\n",
      "3\n",
      "4\n",
      "5\n",
      "6\n",
      "7\n",
      "8\n",
      "9\n"
     ]
    }
   ],
   "source": [
    "print(li[0])\n",
    "print(li[1])\n",
    "print(li[2])\n",
    "print(li[3])\n",
    "print(li[4])\n",
    "print(li[5])\n",
    "print(li[6])\n",
    "print(li[7])\n",
    "print(li[8])"
   ]
  },
  {
   "cell_type": "code",
   "execution_count": 14,
   "metadata": {},
   "outputs": [
    {
     "name": "stdout",
     "output_type": "stream",
     "text": [
      "1\n",
      "2\n",
      "3\n",
      "4\n",
      "5\n",
      "6\n",
      "7\n",
      "8\n",
      "9\n"
     ]
    }
   ],
   "source": [
    "for i in li:\n",
    "    print(i)"
   ]
  },
  {
   "cell_type": "code",
   "execution_count": 15,
   "metadata": {},
   "outputs": [
    {
     "name": "stdout",
     "output_type": "stream",
     "text": [
      "karachi: Foods Lover\n",
      "Lahore: Sports Lover\n",
      "Rawalpindi: Pindi Boys\n",
      "Sialkot: Sport Production\n",
      "Larkana: Bhutto\n"
     ]
    }
   ],
   "source": [
    "cities = [\"karachi\",\"Lahore\",\"Rawalpindi\",\"Sialkot\",\"Larkana\"]\n",
    "for i in cities:\n",
    "    if i == \"karachi\":\n",
    "        print(f\"{i}: Foods Lover\")\n",
    "    else:\n",
    "        if i == \"Lahore\":\n",
    "            print(f\"{i}: Sports Lover\")\n",
    "        else:\n",
    "            if i == \"Rawalpindi\":\n",
    "                print(f\"{i}: Pindi Boys\")\n",
    "            else:\n",
    "                if i == \"Sialkot\":\n",
    "                    print(f\"{i}: Sport Production\")\n",
    "                else:\n",
    "                    if i == \"Larkana\":\n",
    "                        print(f\"{i}: Bhutto\")"
   ]
  },
  {
   "cell_type": "code",
   "execution_count": 16,
   "metadata": {},
   "outputs": [
    {
     "name": "stdout",
     "output_type": "stream",
     "text": [
      "1\n",
      "2\n",
      "3\n",
      "4\n"
     ]
    }
   ],
   "source": [
    "for i in li:\n",
    "    if i == 5:\n",
    "        break\n",
    "    else:\n",
    "        print(i)"
   ]
  },
  {
   "cell_type": "code",
   "execution_count": 17,
   "metadata": {},
   "outputs": [
    {
     "name": "stdout",
     "output_type": "stream",
     "text": [
      "1\n",
      "2\n",
      "3\n",
      "4\n",
      "6\n",
      "7\n",
      "8\n",
      "9\n"
     ]
    }
   ],
   "source": [
    "for i in li:\n",
    "    if i != 5:\n",
    "        print(i)"
   ]
  },
  {
   "cell_type": "code",
   "execution_count": 18,
   "metadata": {},
   "outputs": [
    {
     "name": "stdout",
     "output_type": "stream",
     "text": [
      "1\n",
      "2\n",
      "3\n",
      "4\n",
      "6\n",
      "7\n",
      "8\n",
      "9\n"
     ]
    }
   ],
   "source": [
    "for i in li:\n",
    "    if i == 5:\n",
    "        continue\n",
    "    else:\n",
    "        print(i)"
   ]
  },
  {
   "cell_type": "code",
   "execution_count": 19,
   "metadata": {},
   "outputs": [
    {
     "name": "stdout",
     "output_type": "stream",
     "text": [
      "1\n",
      "3\n",
      "4\n",
      "5\n",
      "6\n",
      "7\n"
     ]
    }
   ],
   "source": [
    "for i in li:\n",
    "    if i == 2:\n",
    "        continue\n",
    "    elif (i == 8):\n",
    "        break\n",
    "    else:\n",
    "        print(i)"
   ]
  },
  {
   "cell_type": "code",
   "execution_count": 20,
   "metadata": {},
   "outputs": [
    {
     "data": {
      "text/plain": [
       "[2, 4, 6, 8, 10, 12, 14, 16, 18, 20]"
      ]
     },
     "execution_count": 20,
     "metadata": {},
     "output_type": "execute_result"
    }
   ],
   "source": [
    "l2 = list(range(2,21,2))\n",
    "l2"
   ]
  },
  {
   "cell_type": "code",
   "execution_count": 21,
   "metadata": {},
   "outputs": [
    {
     "data": {
      "text/plain": [
       "[20, 18, 16, 14, 12, 10, 8, 6, 4, 2]"
      ]
     },
     "execution_count": 21,
     "metadata": {},
     "output_type": "execute_result"
    }
   ],
   "source": [
    "l3 = list(range(20,0,-2))\n",
    "l3"
   ]
  },
  {
   "cell_type": "code",
   "execution_count": 22,
   "metadata": {},
   "outputs": [
    {
     "data": {
      "text/plain": [
       "[50, 45, 40, 35, 30, 25, 20, 15, 10, 5]"
      ]
     },
     "execution_count": 22,
     "metadata": {},
     "output_type": "execute_result"
    }
   ],
   "source": [
    "l5 = list(range(50,0,-5))\n",
    "l5"
   ]
  },
  {
   "cell_type": "code",
   "execution_count": 23,
   "metadata": {},
   "outputs": [
    {
     "name": "stdout",
     "output_type": "stream",
     "text": [
      "2002,2009,2016,2023,2037,2044,2051,2058,2072,2079,2086,2093,2107,2114,2121,2128,2142,2149,2156,2163,2177,2184,2191,2198,2212,2219,2226,2233,2247,2254,2261,2268,2282,2289,2296,2303,2317,2324,2331,2338,2352,2359,2366,2373,2387,2394,2401,2408,2422,2429,2436,2443,2457,2464,2471,2478,2492,2499,2506,2513,2527,2534,2541,2548,2562,2569,2576,2583,2597,2604,2611,2618,2632,2639,2646,2653,2667,2674,2681,2688,2702,2709,2716,2723,2737,2744,2751,2758,2772,2779,2786,2793,2807,2814,2821,2828,2842,2849,2856,2863,2877,2884,2891,2898,2912,2919,2926,2933,2947,2954,2961,2968,2982,2989,2996,3003,3017,3024,3031,3038,3052,3059,3066,3073,3087,3094,3101,3108,3122,3129,3136,3143,3157,3164,3171,3178,3192,3199\n"
     ]
    }
   ],
   "source": [
    "list=[]\n",
    "for i in range(2000 , 3200):\n",
    "    if (i%7==0) and (i%5!=0):\n",
    "        list.append(str(i))\n",
    "print (','.join(list))  "
   ]
  },
  {
   "cell_type": "code",
   "execution_count": 24,
   "metadata": {},
   "outputs": [
    {
     "name": "stdout",
     "output_type": "stream",
     "text": [
      "14\n",
      "87178291200\n"
     ]
    }
   ],
   "source": [
    "#Assigment\n",
    "#Take a number from user and give m a factorial of this Number\n",
    "#8*7*6*5*4*3*2*1 = Ans\n",
    "number = int(input())\n",
    "for i in range(number - 1,1,-1):\n",
    "    number = number * i\n",
    "print(str(number))"
   ]
  },
  {
   "cell_type": "code",
   "execution_count": 25,
   "metadata": {},
   "outputs": [
    {
     "name": "stdout",
     "output_type": "stream",
     "text": [
      "2\n",
      "1\n",
      "2\n"
     ]
    }
   ],
   "source": [
    "#For LOOP\n",
    "# jb tk For loop ki conndition khatam nae hoti chalta rhyga\n",
    "for number in range(1):\n",
    "    n1 = int(input())\n",
    "    n2 = int(input())\n",
    "    sum = n1 * n2\n",
    "    print(sum)"
   ]
  },
  {
   "cell_type": "code",
   "execution_count": 26,
   "metadata": {},
   "outputs": [
    {
     "name": "stdout",
     "output_type": "stream",
     "text": [
      "Enter a number : 14\n",
      "14\n",
      "Enter a number : 12\n",
      "12\n",
      "Enter a number : 12\n",
      "12\n",
      "Enter a number : q\n",
      "q\n"
     ]
    }
   ],
   "source": [
    "#While Loop\n",
    "#loop break in user End\n",
    "flag = True\n",
    "while flag:\n",
    "    number = input(\"Enter a number : \")\n",
    "    print(number)\n",
    "    if number =='q':\n",
    "        flag=False"
   ]
  },
  {
   "cell_type": "code",
   "execution_count": 38,
   "metadata": {},
   "outputs": [
    {
     "name": "stdout",
     "output_type": "stream",
     "text": [
      "Give me a Employee Name : Kashan\n",
      "Give me Employee Sale : 7000\n",
      "Give me a Employee Name : q\n"
     ]
    },
    {
     "ename": "AttributeError",
     "evalue": "'list' object has no attribute 'value'",
     "output_type": "error",
     "traceback": [
      "\u001b[1;31m---------------------------------------------------------------------------\u001b[0m",
      "\u001b[1;31mAttributeError\u001b[0m                            Traceback (most recent call last)",
      "\u001b[1;32m<ipython-input-38-f27b14d159e4>\u001b[0m in \u001b[0;36m<module>\u001b[1;34m\u001b[0m\n\u001b[0;32m     28\u001b[0m \u001b[1;32mfor\u001b[0m \u001b[0mmaxSale\u001b[0m \u001b[1;32min\u001b[0m \u001b[1;33m(\u001b[0m\u001b[0mempSale\u001b[0m\u001b[1;33m)\u001b[0m\u001b[1;33m:\u001b[0m\u001b[1;33m\u001b[0m\u001b[1;33m\u001b[0m\u001b[0m\n\u001b[0;32m     29\u001b[0m     \u001b[1;32mif\u001b[0m \u001b[0mmaxSale\u001b[0m \u001b[1;33m>\u001b[0m \u001b[1;36m5000\u001b[0m\u001b[1;33m:\u001b[0m\u001b[1;33m\u001b[0m\u001b[1;33m\u001b[0m\u001b[0m\n\u001b[1;32m---> 30\u001b[1;33m         \u001b[0mgoodEmp\u001b[0m\u001b[1;33m.\u001b[0m\u001b[0mappend\u001b[0m\u001b[1;33m(\u001b[0m\u001b[0mempSale\u001b[0m\u001b[1;33m.\u001b[0m\u001b[0mvalue\u001b[0m\u001b[1;33m)\u001b[0m\u001b[1;33m\u001b[0m\u001b[1;33m\u001b[0m\u001b[0m\n\u001b[0m\u001b[0;32m     31\u001b[0m     \u001b[1;32melse\u001b[0m\u001b[1;33m:\u001b[0m\u001b[1;33m\u001b[0m\u001b[1;33m\u001b[0m\u001b[0m\n\u001b[0;32m     32\u001b[0m         \u001b[0mbadEmp\u001b[0m\u001b[1;33m.\u001b[0m\u001b[0mappend\u001b[0m\u001b[1;33m(\u001b[0m\u001b[0mempList\u001b[0m\u001b[1;33m)\u001b[0m\u001b[1;33m\u001b[0m\u001b[1;33m\u001b[0m\u001b[0m\n",
      "\u001b[1;31mAttributeError\u001b[0m: 'list' object has no attribute 'value'"
     ]
    }
   ],
   "source": [
    "#make a employee list\n",
    "#1)Check the employee\n",
    "#Sales \n",
    "#2)diffrentiate Good and Bad Employee make list\n",
    "#3)if input name employee is not in list give msg\n",
    "#4)Quite program\n",
    "empList = []\n",
    "empSale = []\n",
    "goodEmp = []\n",
    "badEmp = []\n",
    "#print (\"Do you want to Employee Data : (Y/N)\")\n",
    "#option = input()\n",
    "#if option == 'y' :\n",
    "#    flag = True\n",
    "#else:\n",
    "flag = True\n",
    "while flag:\n",
    "    employee = input(\"Give me a Employee Name : \")\n",
    "    \n",
    "    if employee == 'q':\n",
    "        flag = False\n",
    "    else:\n",
    "        sale = int(input(\"Give me Employee Sale : \"))\n",
    "        empList.append(employee)\n",
    "        empSale.append(sale)\n",
    "\n",
    "\n",
    "for maxSale in (empSale):\n",
    "    if maxSale > 5000:\n",
    "        goodEmp.append(empSale)\n",
    "    else:\n",
    "        badEmp.append(empList)\n",
    "\n",
    "print(\"The Employee in the list are \",empList)\n",
    "print(\"The Employee in the list are \",empSale)\n",
    "print(\"The Employee in the list are \",badEmp)\n",
    "print(\"The Employee in the list are \",goodEmp)"
   ]
  },
  {
   "cell_type": "code",
   "execution_count": null,
   "metadata": {},
   "outputs": [],
   "source": []
  }
 ],
 "metadata": {
  "kernelspec": {
   "display_name": "Python 3",
   "language": "python",
   "name": "python3"
  },
  "language_info": {
   "codemirror_mode": {
    "name": "ipython",
    "version": 3
   },
   "file_extension": ".py",
   "mimetype": "text/x-python",
   "name": "python",
   "nbconvert_exporter": "python",
   "pygments_lexer": "ipython3",
   "version": "3.7.4"
  }
 },
 "nbformat": 4,
 "nbformat_minor": 2
}
