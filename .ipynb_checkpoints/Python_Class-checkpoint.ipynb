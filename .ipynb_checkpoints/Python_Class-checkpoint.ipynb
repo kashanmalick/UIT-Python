{
 "cells": [
  {
   "cell_type": "markdown",
   "metadata": {},
   "source": [
    "# Class # 01 Print Statment"
   ]
  },
  {
   "cell_type": "code",
   "execution_count": 1,
   "metadata": {},
   "outputs": [
    {
     "name": "stdout",
     "output_type": "stream",
     "text": [
      "Hello World\n"
     ]
    }
   ],
   "source": [
    "print(\"Hello World\")"
   ]
  },
  {
   "cell_type": "code",
   "execution_count": 1,
   "metadata": {},
   "outputs": [
    {
     "name": "stdout",
     "output_type": "stream",
     "text": [
      "Kashan Zafar\n"
     ]
    }
   ],
   "source": [
    "print (\"Kashan Zafar\")"
   ]
  },
  {
   "cell_type": "markdown",
   "metadata": {},
   "source": [
    "# Variable for String"
   ]
  },
  {
   "cell_type": "code",
   "execution_count": 1,
   "metadata": {},
   "outputs": [
    {
     "name": "stdout",
     "output_type": "stream",
     "text": [
      "My Name is : Kashan zafar\n",
      "I am Pakistani\n"
     ]
    }
   ],
   "source": [
    "name = \"Kashan zafar\"\n",
    "nationality = \"Pakistani\"\n",
    "print(\"My Name is : \" + name)\n",
    "print(\"I am \" +nationality)"
   ]
  },
  {
   "cell_type": "markdown",
   "metadata": {},
   "source": [
    "# Variable for Number"
   ]
  },
  {
   "cell_type": "code",
   "execution_count": 4,
   "metadata": {},
   "outputs": [
    {
     "name": "stdout",
     "output_type": "stream",
     "text": [
      "250\n"
     ]
    }
   ],
   "source": [
    "#You can use many simble to ADD Multiply and Division\n",
    "first_num = 120\n",
    "second_num = 130\n",
    "Ans = first_num + second_num\n",
    "print(Ans)"
   ]
  },
  {
   "cell_type": "markdown",
   "metadata": {},
   "source": [
    "# Familiar Operators"
   ]
  },
  {
   "cell_type": "code",
   "execution_count": 6,
   "metadata": {},
   "outputs": [
    {
     "name": "stdout",
     "output_type": "stream",
     "text": [
      "90\n",
      "40\n",
      "6500\n",
      "0.65\n"
     ]
    }
   ],
   "source": [
    "#ALL Calculation in this Operation\n",
    "first_num = 65\n",
    "second_num = 20\n",
    "third_num = 5\n",
    "AnsADD = first_num + second_num + third_num\n",
    "AnsSUB = first_num - second_num - third_num\n",
    "AnsMUL = first_num * second_num * third_num\n",
    "AnsDIV = first_num / second_num / third_num\n",
    "print(AnsADD)\n",
    "print(AnsSUB)\n",
    "print(AnsMUL)\n",
    "print(AnsDIV)"
   ]
  },
  {
   "cell_type": "markdown",
   "metadata": {},
   "source": [
    "# Variable Names Legal and Illegal"
   ]
  },
  {
   "cell_type": "code",
   "execution_count": 7,
   "metadata": {},
   "outputs": [],
   "source": [
    "#Name start with Number is ilegal\n",
    "#Name Start with Character is ilegal\n",
    "#keyword of Python Language"
   ]
  },
  {
   "cell_type": "markdown",
   "metadata": {},
   "source": [
    "# Unfamiliar Operator"
   ]
  },
  {
   "cell_type": "code",
   "execution_count": 10,
   "metadata": {},
   "outputs": [
    {
     "name": "stdout",
     "output_type": "stream",
     "text": [
      "1\n"
     ]
    }
   ],
   "source": [
    "# % modulo Operator just like 10 / 3 (1 in reminder its Shows in modulo)\n",
    "modulo = 10 %3\n",
    "print(modulo)"
   ]
  },
  {
   "cell_type": "code",
   "execution_count": 22,
   "metadata": {},
   "outputs": [
    {
     "name": "stdout",
     "output_type": "stream",
     "text": [
      "26\n"
     ]
    }
   ],
   "source": [
    "#if we want add any number in we could age + 1 like that But we also do like that\n",
    "age = 25\n",
    "age += 1\n",
    "#age -= 1\n",
    "#age *= 2\n",
    "\n",
    "print(age)"
   ]
  },
  {
   "cell_type": "markdown",
   "metadata": {},
   "source": [
    "# Math expressions: Eliminating Ambiguity"
   ]
  },
  {
   "cell_type": "code",
   "execution_count": 7,
   "metadata": {},
   "outputs": [
    {
     "name": "stdout",
     "output_type": "stream",
     "text": [
      "9\n"
     ]
    }
   ],
   "source": [
    "total = 1 + 2 * 4\n",
    "total1 = ((2 * 4) * 4) + 2\n",
    "total2 = (2 * 4) * (4 + 2)\n",
    "print(total)"
   ]
  },
  {
   "cell_type": "markdown",
   "metadata": {},
   "source": [
    "# Concetinating Text"
   ]
  },
  {
   "cell_type": "code",
   "execution_count": 32,
   "metadata": {},
   "outputs": [
    {
     "name": "stdout",
     "output_type": "stream",
     "text": [
      "My name is Kashan.My father Name is Zafar Alam and i am 24 year Old.\n",
      "My name is Kashan.My father Name is Zafar Alam and i am 24 year Old.\n"
     ]
    }
   ],
   "source": [
    "name = \"Kashan\"\n",
    "age = 24\n",
    "f_name = \"Zafar Alam\"\n",
    "Sentence = \"My name is \"+name+\".My father Name is \"+f_name+\" and i am \"+str(age)+\" year Old.\"\n",
    "print(Sentence)\n",
    "print(\"My name is {}.My father Name is {} and i am {} year Old.\".format(name,f_name,age))"
   ]
  },
  {
   "cell_type": "markdown",
   "metadata": {},
   "source": [
    "# IF Statment"
   ]
  },
  {
   "cell_type": "code",
   "execution_count": 50,
   "metadata": {},
   "outputs": [
    {
     "name": "stdout",
     "output_type": "stream",
     "text": [
      "Give me int Number 7\n",
      "you enter Greater than 6 Number\n"
     ]
    }
   ],
   "source": [
    "userInput = int(input(\"Give me int Number \"))\n",
    "if userInput > 6:\n",
    "    print(\"you enter Greater than 6 Number\")\n",
    "else:\n",
    "    print(\"You enter Less then or equal to 6 Number\")"
   ]
  },
  {
   "cell_type": "code",
   "execution_count": 4,
   "metadata": {},
   "outputs": [
    {
     "name": "stdout",
     "output_type": "stream",
     "text": [
      "Do you have Driving Licence? no\n",
      "Do you have Car Paper? no\n",
      "Do you have Money?  yes\n",
      "Okey Go away\n"
     ]
    }
   ],
   "source": [
    "DL = input(\"Do you have Driving Licence? \").upper()\n",
    "DL = DL.replace(\" \",\"\")\n",
    "if DL == \"YES\":\n",
    "    print(\"Okey Go away\")\n",
    "else:\n",
    "    CP = input(\"Do you have Car Paper? \").upper()\n",
    "    CP = CP.replace(\" \",\"\")\n",
    "    if CP == \"YES\":\n",
    "        print(\"Okey Go Away\")\n",
    "    else:\n",
    "        Money = input(\"Do you have Money? \").upper()\n",
    "        Money = Money.replace(\" \",\"\")\n",
    "        if Money == \"YES\":\n",
    "            print(\"Okey Go away\")\n",
    "        else:\n",
    "                print(\"Chal beta Side m aja :D\")"
   ]
  },
  {
   "cell_type": "code",
   "execution_count": null,
   "metadata": {},
   "outputs": [],
   "source": []
  },
  {
   "cell_type": "code",
   "execution_count": null,
   "metadata": {},
   "outputs": [],
   "source": []
  }
 ],
 "metadata": {
  "kernelspec": {
   "display_name": "Python 3",
   "language": "python",
   "name": "python3"
  },
  "language_info": {
   "codemirror_mode": {
    "name": "ipython",
    "version": 3
   },
   "file_extension": ".py",
   "mimetype": "text/x-python",
   "name": "python",
   "nbconvert_exporter": "python",
   "pygments_lexer": "ipython3",
   "version": "3.7.4"
  }
 },
 "nbformat": 4,
 "nbformat_minor": 2
}
