{
 "cells": [
  {
   "cell_type": "markdown",
   "metadata": {},
   "source": [
    "# Class # 01 Print Statment"
   ]
  },
  {
   "cell_type": "code",
   "execution_count": 1,
   "metadata": {},
   "outputs": [
    {
     "name": "stdout",
     "output_type": "stream",
     "text": [
      "Hello World\n"
     ]
    }
   ],
   "source": [
    "print(\"Hello World\")"
   ]
  },
  {
   "cell_type": "code",
   "execution_count": 1,
   "metadata": {},
   "outputs": [
    {
     "name": "stdout",
     "output_type": "stream",
     "text": [
      "Kashan Zafar\n"
     ]
    }
   ],
   "source": [
    "print (\"Kashan Zafar\")"
   ]
  },
  {
   "cell_type": "markdown",
   "metadata": {},
   "source": [
    "# Variable for String"
   ]
  },
  {
   "cell_type": "code",
   "execution_count": 1,
   "metadata": {},
   "outputs": [
    {
     "name": "stdout",
     "output_type": "stream",
     "text": [
      "My Name is : Kashan zafar\n",
      "I am Pakistani\n"
     ]
    }
   ],
   "source": [
    "name = \"Kashan zafar\"\n",
    "nationality = \"Pakistani\"\n",
    "print(\"My Name is : \" + name)\n",
    "print(\"I am \" +nationality)"
   ]
  },
  {
   "cell_type": "markdown",
   "metadata": {},
   "source": [
    "# Variable for Number"
   ]
  },
  {
   "cell_type": "code",
   "execution_count": 4,
   "metadata": {},
   "outputs": [
    {
     "name": "stdout",
     "output_type": "stream",
     "text": [
      "250\n"
     ]
    }
   ],
   "source": [
    "#You can use many simble to ADD Multiply and Division\n",
    "first_num = 120\n",
    "second_num = 130\n",
    "Ans = first_num + second_num\n",
    "print(Ans)"
   ]
  },
  {
   "cell_type": "markdown",
   "metadata": {},
   "source": [
    "# Familiar Operators"
   ]
  },
  {
   "cell_type": "code",
   "execution_count": 6,
   "metadata": {},
   "outputs": [
    {
     "name": "stdout",
     "output_type": "stream",
     "text": [
      "90\n",
      "40\n",
      "6500\n",
      "0.65\n"
     ]
    }
   ],
   "source": [
    "#ALL Calculation in this Operation\n",
    "first_num = 65\n",
    "second_num = 20\n",
    "third_num = 5\n",
    "AnsADD = first_num + second_num + third_num\n",
    "AnsSUB = first_num - second_num - third_num\n",
    "AnsMUL = first_num * second_num * third_num\n",
    "AnsDIV = first_num / second_num / third_num\n",
    "print(AnsADD)\n",
    "print(AnsSUB)\n",
    "print(AnsMUL)\n",
    "print(AnsDIV)"
   ]
  },
  {
   "cell_type": "markdown",
   "metadata": {},
   "source": [
    "# Variable Names Legal and Illegal"
   ]
  },
  {
   "cell_type": "code",
   "execution_count": 7,
   "metadata": {},
   "outputs": [],
   "source": [
    "#Name start with Number is ilegal\n",
    "#Name Start with Character is ilegal\n",
    "#keyword of Python Language"
   ]
  },
  {
   "cell_type": "markdown",
   "metadata": {},
   "source": [
    "# Unfamiliar Operator"
   ]
  },
  {
   "cell_type": "code",
   "execution_count": 10,
   "metadata": {},
   "outputs": [
    {
     "name": "stdout",
     "output_type": "stream",
     "text": [
      "1\n"
     ]
    }
   ],
   "source": [
    "# % modulo Operator just like 10 / 3 (1 in reminder its Shows in modulo)\n",
    "modulo = 10 %3\n",
    "print(modulo)"
   ]
  },
  {
   "cell_type": "code",
   "execution_count": 22,
   "metadata": {},
   "outputs": [
    {
     "name": "stdout",
     "output_type": "stream",
     "text": [
      "26\n"
     ]
    }
   ],
   "source": [
    "#if we want add any number in we could age + 1 like that But we also do like that\n",
    "age = 25\n",
    "age += 1\n",
    "#age -= 1\n",
    "#age *= 2\n",
    "\n",
    "print(age)"
   ]
  },
  {
   "cell_type": "markdown",
   "metadata": {},
   "source": [
    "# Math expressions: Eliminating Ambiguity"
   ]
  },
  {
   "cell_type": "code",
   "execution_count": 7,
   "metadata": {},
   "outputs": [
    {
     "name": "stdout",
     "output_type": "stream",
     "text": [
      "9\n"
     ]
    }
   ],
   "source": [
    "total = 1 + 2 * 4\n",
    "total1 = ((2 * 4) * 4) + 2\n",
    "total2 = (2 * 4) * (4 + 2)\n",
    "print(total)"
   ]
  },
  {
   "cell_type": "markdown",
   "metadata": {},
   "source": [
    "# Concetinating Text"
   ]
  },
  {
   "cell_type": "code",
   "execution_count": 32,
   "metadata": {},
   "outputs": [
    {
     "name": "stdout",
     "output_type": "stream",
     "text": [
      "My name is Kashan.My father Name is Zafar Alam and i am 24 year Old.\n",
      "My name is Kashan.My father Name is Zafar Alam and i am 24 year Old.\n"
     ]
    }
   ],
   "source": [
    "name = \"Kashan\"\n",
    "age = 24\n",
    "f_name = \"Zafar Alam\"\n",
    "Sentence = \"My name is \"+name+\".My father Name is \"+f_name+\" and i am \"+str(age)+\" year Old.\"\n",
    "print(Sentence)\n",
    "print(\"My name is {}.My father Name is {} and i am {} year Old.\".format(name,f_name,age))"
   ]
  },
  {
   "cell_type": "markdown",
   "metadata": {},
   "source": [
    "# IF Statment"
   ]
  },
  {
   "cell_type": "code",
   "execution_count": 50,
   "metadata": {},
   "outputs": [
    {
     "name": "stdout",
     "output_type": "stream",
     "text": [
      "Give me int Number 7\n",
      "you enter Greater than 6 Number\n"
     ]
    }
   ],
   "source": [
    "userInput = int(input(\"Give me int Number \"))\n",
    "if userInput > 6:\n",
    "    print(\"you enter Greater than 6 Number\")\n",
    "else:\n",
    "    print(\"You enter Less then or equal to 6 Number\")"
   ]
  },
  {
   "cell_type": "code",
   "execution_count": 4,
   "metadata": {},
   "outputs": [
    {
     "name": "stdout",
     "output_type": "stream",
     "text": [
      "Do you have Driving Licence? no\n",
      "Do you have Car Paper? no\n",
      "Do you have Money?  yes\n",
      "Okey Go away\n"
     ]
    }
   ],
   "source": [
    "DL = input(\"Do you have Driving Licence? \").upper()\n",
    "DL = DL.replace(\" \",\"\")\n",
    "if DL == \"YES\":\n",
    "    print(\"Okey Go away\")\n",
    "else:\n",
    "    CP = input(\"Do you have Car Paper? \").upper()\n",
    "    CP = CP.replace(\" \",\"\")\n",
    "    if CP == \"YES\":\n",
    "        print(\"Okey Go Away\")\n",
    "    else:\n",
    "        Money = input(\"Do you have Money? \").upper()\n",
    "        Money = Money.replace(\" \",\"\")\n",
    "        if Money == \"YES\":\n",
    "            print(\"Okey Go away\")\n",
    "        else:\n",
    "                print(\"Chal beta Side m aja :D\")"
   ]
  },
  {
   "cell_type": "markdown",
   "metadata": {},
   "source": [
    "# LIST"
   ]
  },
  {
   "cell_type": "code",
   "execution_count": 14,
   "metadata": {},
   "outputs": [
    {
     "data": {
      "text/plain": [
       "['Sawat',\n",
       " 'Karachi',\n",
       " 'Lahore',\n",
       " 'hyderabad',\n",
       " 'Islamabad',\n",
       " 'Queeta',\n",
       " 'Peshawar',\n",
       " 'Gilgit']"
      ]
     },
     "execution_count": 14,
     "metadata": {},
     "output_type": "execute_result"
    }
   ],
   "source": [
    "listOfCity = [\"Karachi\",\"Lahore\",\"hyderabad\",\"Islamabad\",\"Queeta\",\"Peshawar\"]\n",
    "#Adding Cities in list\n",
    "listOfCity.append(\"Gilgit\")\n",
    "#Insert City in list with given Position\n",
    "listOfCity.insert(0,\"Sawat\")\n",
    "listOfCity"
   ]
  },
  {
   "cell_type": "markdown",
   "metadata": {},
   "source": [
    "# Taking Slice from List"
   ]
  },
  {
   "cell_type": "code",
   "execution_count": 17,
   "metadata": {},
   "outputs": [
    {
     "data": {
      "text/plain": [
       "['Sawat', 'Karachi', 'Lahore']"
      ]
     },
     "execution_count": 17,
     "metadata": {},
     "output_type": "execute_result"
    }
   ],
   "source": [
    "listOfCity[0:3]\n",
    "#You can Slice the list in many order just like\n",
    "#listOfCity[:9]\n",
    "#listOfCity[0:9]\n",
    "#listOfCity[2:6]\n",
    "#listOfCity[0:]\n",
    "#You ca also Do it with negative Number"
   ]
  },
  {
   "cell_type": "markdown",
   "metadata": {},
   "source": [
    "# Deleting and Removing Element from List."
   ]
  },
  {
   "cell_type": "code",
   "execution_count": 18,
   "metadata": {},
   "outputs": [
    {
     "data": {
      "text/plain": [
       "['Sawat',\n",
       " 'Karachi',\n",
       " 'Lahore',\n",
       " 'hyderabad',\n",
       " 'Islamabad',\n",
       " 'Queeta',\n",
       " 'Peshawar',\n",
       " 'Gilgit']"
      ]
     },
     "execution_count": 18,
     "metadata": {},
     "output_type": "execute_result"
    }
   ],
   "source": [
    "listOfCity"
   ]
  },
  {
   "cell_type": "code",
   "execution_count": 19,
   "metadata": {},
   "outputs": [],
   "source": [
    "del listOfCity[0]"
   ]
  },
  {
   "cell_type": "code",
   "execution_count": 20,
   "metadata": {},
   "outputs": [
    {
     "data": {
      "text/plain": [
       "['Karachi', 'Lahore', 'hyderabad', 'Islamabad', 'Queeta', 'Peshawar', 'Gilgit']"
      ]
     },
     "execution_count": 20,
     "metadata": {},
     "output_type": "execute_result"
    }
   ],
   "source": [
    "listOfCity"
   ]
  },
  {
   "cell_type": "code",
   "execution_count": 29,
   "metadata": {},
   "outputs": [
    {
     "ename": "ValueError",
     "evalue": "list.remove(x): x not in list",
     "output_type": "error",
     "traceback": [
      "\u001b[1;31m---------------------------------------------------------------------------\u001b[0m",
      "\u001b[1;31mValueError\u001b[0m                                Traceback (most recent call last)",
      "\u001b[1;32m<ipython-input-29-53adaac3daaf>\u001b[0m in \u001b[0;36m<module>\u001b[1;34m\u001b[0m\n\u001b[0;32m      2\u001b[0m \u001b[1;31m#index number just Like\u001b[0m\u001b[1;33m\u001b[0m\u001b[1;33m\u001b[0m\u001b[1;33m\u001b[0m\u001b[0m\n\u001b[0;32m      3\u001b[0m \u001b[0mlistOfCity\u001b[0m\u001b[1;33m\u001b[0m\u001b[1;33m\u001b[0m\u001b[0m\n\u001b[1;32m----> 4\u001b[1;33m \u001b[0mlistOfCity\u001b[0m\u001b[1;33m.\u001b[0m\u001b[0mremove\u001b[0m\u001b[1;33m(\u001b[0m\u001b[1;34m\"Gilgit\"\u001b[0m\u001b[1;33m)\u001b[0m\u001b[1;33m\u001b[0m\u001b[1;33m\u001b[0m\u001b[0m\n\u001b[0m",
      "\u001b[1;31mValueError\u001b[0m: list.remove(x): x not in list"
     ]
    }
   ],
   "source": [
    "#You can also strike an element off a list by specifying its value instead of its\n",
    "#index number just Like\n",
    "listOfCity\n",
    "listOfCity.remove(\"Gilgit\")\n",
    "#Forget this Error You can see gilgit in upper out put but not in lower"
   ]
  },
  {
   "cell_type": "code",
   "execution_count": 30,
   "metadata": {},
   "outputs": [
    {
     "data": {
      "text/plain": [
       "['Karachi', 'Lahore', 'hyderabad', 'Islamabad', 'Queeta', 'Peshawar']"
      ]
     },
     "execution_count": 30,
     "metadata": {},
     "output_type": "execute_result"
    }
   ],
   "source": [
    "listOfCity"
   ]
  },
  {
   "cell_type": "markdown",
   "metadata": {},
   "source": [
    "# Popping Element"
   ]
  },
  {
   "cell_type": "code",
   "execution_count": 31,
   "metadata": {},
   "outputs": [
    {
     "data": {
      "text/plain": [
       "['Karachi', 'Lahore', 'hyderabad', 'Islamabad', 'Queeta', 'Peshawar']"
      ]
     },
     "execution_count": 31,
     "metadata": {},
     "output_type": "execute_result"
    }
   ],
   "source": [
    "listOfCity"
   ]
  },
  {
   "cell_type": "code",
   "execution_count": 32,
   "metadata": {},
   "outputs": [],
   "source": [
    "getCity = listOfCity.pop(1)\n",
    "#Lahore Gone"
   ]
  },
  {
   "cell_type": "code",
   "execution_count": 35,
   "metadata": {},
   "outputs": [
    {
     "data": {
      "text/plain": [
       "['Karachi', 'hyderabad', 'Islamabad', 'Queeta', 'Peshawar']"
      ]
     },
     "execution_count": 35,
     "metadata": {},
     "output_type": "execute_result"
    }
   ],
   "source": [
    "listOfCity"
   ]
  },
  {
   "cell_type": "code",
   "execution_count": 36,
   "metadata": {},
   "outputs": [
    {
     "data": {
      "text/plain": [
       "'Lahore'"
      ]
     },
     "execution_count": 36,
     "metadata": {},
     "output_type": "execute_result"
    }
   ],
   "source": [
    "getCity"
   ]
  },
  {
   "cell_type": "code",
   "execution_count": 37,
   "metadata": {},
   "outputs": [
    {
     "ename": "AttributeError",
     "evalue": "'str' object has no attribute 'append'",
     "output_type": "error",
     "traceback": [
      "\u001b[1;31m---------------------------------------------------------------------------\u001b[0m",
      "\u001b[1;31mAttributeError\u001b[0m                            Traceback (most recent call last)",
      "\u001b[1;32m<ipython-input-37-b9bbe827bff9>\u001b[0m in \u001b[0;36m<module>\u001b[1;34m\u001b[0m\n\u001b[1;32m----> 1\u001b[1;33m \u001b[0mgetCity\u001b[0m\u001b[1;33m.\u001b[0m\u001b[0mappend\u001b[0m\u001b[1;33m(\u001b[0m\u001b[0mlistOfCity\u001b[0m\u001b[1;33m)\u001b[0m\u001b[1;33m\u001b[0m\u001b[1;33m\u001b[0m\u001b[0m\n\u001b[0m",
      "\u001b[1;31mAttributeError\u001b[0m: 'str' object has no attribute 'append'"
     ]
    }
   ],
   "source": []
  },
  {
   "cell_type": "code",
   "execution_count": null,
   "metadata": {},
   "outputs": [],
   "source": []
  }
 ],
 "metadata": {
  "kernelspec": {
   "display_name": "Python 3",
   "language": "python",
   "name": "python3"
  },
  "language_info": {
   "codemirror_mode": {
    "name": "ipython",
    "version": 3
   },
   "file_extension": ".py",
   "mimetype": "text/x-python",
   "name": "python",
   "nbconvert_exporter": "python",
   "pygments_lexer": "ipython3",
   "version": "3.7.4"
  }
 },
 "nbformat": 4,
 "nbformat_minor": 2
}
